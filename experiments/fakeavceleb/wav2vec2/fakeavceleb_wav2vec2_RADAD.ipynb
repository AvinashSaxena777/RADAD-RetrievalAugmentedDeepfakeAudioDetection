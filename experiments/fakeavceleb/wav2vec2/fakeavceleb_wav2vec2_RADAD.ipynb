{
  "nbformat": 4,
  "nbformat_minor": 0,
  "metadata": {
    "colab": {
      "provenance": [],
      "gpuType": "T4"
    },
    "kernelspec": {
      "name": "python3",
      "display_name": "Python 3"
    },
    "language_info": {
      "name": "python"
    },
    "accelerator": "GPU"
  },
  "cells": [
    {
      "cell_type": "markdown",
      "source": [
        "# Wav2Vec2 - FakeAVCeleb - Retreival Augmented Framework for Deepfake Audio Detection"
      ],
      "metadata": {
        "id": "nzDZaKjpB_Zi"
      }
    },
    {
      "cell_type": "markdown",
      "source": [
        "## Wav2Vec2 Model for Deepfake Audio Detection\n",
        "\n",
        "### Summary of Key Processing Steps in Wav2Vec2\n",
        "\n",
        "1. Directly processes raw audio using convolutional layers in the feature encoder.\n",
        "2. Utilizes a Transformer to capture temporal relationships across the audio sequence.\n",
        "3. Fine-tunes easily for classification tasks by adding a lightweight classification head.\n",
        "4. Pre-trained on vast unlabeled audio data, enabling it to perform well with limited labeled data for classification."
      ],
      "metadata": {
        "id": "7EVgBhcKB_Zj"
      }
    },
    {
      "cell_type": "markdown",
      "source": [
        "## Training"
      ],
      "metadata": {
        "id": "kPFd7GudB_Zj"
      }
    },
    {
      "cell_type": "code",
      "source": [
        "import logging\n",
        "from config import Config\n",
        "from dataset import AudioDataset\n",
        "import argparse\n",
        "import os\n",
        "from pipeline import DeepfakeDetectionPipeline\n",
        "import torch\n",
        "\n",
        "# ========================\n",
        "# Main runner (same behavior; wandb toggle)\n",
        "# ========================\n",
        "\"\"\"\n",
        "Run the complete audio deepfake detection pipeline with single-GPU optimizations.\n",
        "\"\"\"\n",
        "import argparse\n",
        "\n",
        "# 1. Configure logging\n",
        "logging.basicConfig(\n",
        "    level=logging.INFO,\n",
        "    format='%(asctime)s - %(name)s - %(levelname)s - %(message)s'\n",
        ")\n",
        "\n",
        "# 3. Disable problematic torchaudio backends\n",
        "os.environ[\"TORCHAUDIO_USE_SOX\"] = \"0\"\n",
        "os.environ[\"TORCHAUDIO_USE_BACKEND_DISPATCHER\"] = \"1\"\n",
        "\n",
        "# 4. Set device\n",
        "device = torch.device(\"cuda:0\" if torch.cuda.is_available() else \"cpu\")\n",
        "if device.type == \"cuda\":\n",
        "    torch.cuda.set_device(device)\n",
        "\n",
        "# 5. Create configuration\n",
        "config = Config()\n",
        "config.device = device\n",
        "config.train_data_path = \"/content/FakeAVCelebAudio/\"\n",
        "config.test_data_path = \"/content/FakeAVCelebAudio/\"\n",
        "config.train_split = 0.8\n",
        "mode = \"train\"\n",
        "audio_path = None\n",
        "config.feature_extractor_type = \"wav2vec2\"\n",
        "pipeline_check = False\n",
        "\n",
        "if pipeline_check:\n",
        "  config.data_fraction = 0.01\n",
        "  config.num_epochs = 2\n",
        "  # 5a. Wandb toggle\n",
        "  use_wandb = False  # set False to disable W&B\n",
        "else:\n",
        "  config.data_fraction = 1.0\n",
        "  config.num_epochs = 10\n",
        "  # 5a. Wandb toggle\n",
        "  use_wandb = True  # set False to disable W&B\n",
        "\n",
        "\n",
        "config.use_wandb = use_wandb\n",
        "\n",
        "# 6. DataLoader settings\n",
        "config.num_workers = max(1, torch.cuda.device_count() * 2)\n",
        "config.train_batch_size = getattr(config, \"train_batch_size\", 256)\n",
        "config.eval_batch_size = getattr(config, \"eval_batch_size\", 256)\n",
        "config.db_batch_size = getattr(config, \"db_batch_size\", 64)\n",
        "config.top_k = getattr(config, \"top_k\", 5)\n",
        "config.use_batch_norm = False\n",
        "config.use_layer_norm = True\n",
        "\n",
        "\n",
        "# 7. Initialize pipeline\n",
        "pipeline = DeepfakeDetectionPipeline(config)\n",
        "\n",
        "if mode == \"train\":\n",
        "    train_dataset = AudioDataset(config, is_train=True, split_data=True)\n",
        "    val_dataset   = AudioDataset(config, is_train=False, split_data=True)\n",
        "    pipeline.print_split_stats(train_dataset, \"Train\")\n",
        "    pipeline.print_split_stats(val_dataset,   \"Val\")\n",
        "    pipeline.train(train_dataset, val_dataset)\n",
        "\n",
        "elif mode == \"evaluate\":\n",
        "    config.use_wandb = False\n",
        "    pipeline.load_models(\"final_model\")\n",
        "    pipeline.vector_db.load()\n",
        "\n",
        "    test_dataset = AudioDataset(config, is_train=False, split_data=True)\n",
        "    if hasattr(pipeline, \"evaluate_with_metrics\"):\n",
        "        metrics = pipeline.evaluate_with_metrics(test_dataset)\n",
        "        print(\"Evaluation metrics:\")\n",
        "        for key, value in metrics.items():\n",
        "            print(f\"{key}: {value}\")\n",
        "    else:\n",
        "        loss, acc = pipeline.evaluate(test_dataset)\n",
        "        print(f\"Eval Loss: {loss:.4f}, Eval Acc: {acc:.4f}\")\n",
        "\n",
        "elif mode == \"predict\":\n",
        "    if not audio_path:\n",
        "        raise ValueError(\"Audio path must be provided for predict mode\")\n",
        "    pipeline.load_models(\"best_model\")\n",
        "    pipeline.vector_db.load()\n",
        "    result = pipeline.predict(audio_path)\n",
        "    logging.info(f\"Prediction  : {result['prediction']}\")\n",
        "    logging.info(f\"Probability(bona-fide) : {result['probability_bonafide']:.4f}\")\n",
        "    logging.info(f\"Retrieved   : {result['retrieved_labels']}\")"
      ],
      "metadata": {
        "colab": {
          "base_uri": "https://localhost:8080/",
          "height": 1000,
          "referenced_widgets": [
            "31cebd4fbc914fd890500117d1e9eeeb",
            "2e20ab1228084c559aa87a846ab74e1e",
            "21d6e5f087ea4b01a3bb9a3527900a64",
            "b2499e33c1e64940a0e72e155f52080a",
            "1562c749a7264bd9be04faba3de72934",
            "0af5ea5991234519a301cc7f7944a892",
            "8f9e2682dfd54c7db8aff559e07a7bbc",
            "8aefc63e7f084c9c9079e52c0d6d8dec",
            "3b4bf2c13e214cffa92caa37244b3d13",
            "317c0c7b690947dd8ab048a31ddfce00",
            "a4309ad8fb0d4ed3924655b9174532bf",
            "b4a6e4e3529c4800b3598ca36e7b96a2",
            "98c03a8169ab40588de4554b8d155282",
            "090ac4b408de43138be973e259b84368",
            "fbfe23d9f730499bb18480c426894c9a",
            "d3e10536f3954161bad291191ff29e2d",
            "b65beacc800c415d986918a7cfce14c5",
            "79edbfc92f1942479b944475659b289a",
            "2fae3fe574db4fc08e81b9b72dee9543",
            "2387e4e034c34072a291d9745041610b",
            "129ee50cf8124f72b03b7f718253a033",
            "21e2b7dd95134d51b5d1e6ee110566f5",
            "7315a21a6cc044b1a65aef8082250492",
            "97c830c9376a4523a86d9c36c0f4cc6a",
            "215511c880364706b71f77b34493e90c",
            "f83f92f5ddeb41e681d61e5205b1fea2",
            "380296245b0a4e2abfef1a61c8ac02bf",
            "60f1d2dbb931477ca9296789687246d2",
            "73276c54828f4b9da5415f9972bb28ff",
            "5667eb9a44ac40358ed75d31d8c0d8d6",
            "0a256c439a774f98b8a68a2e89684707",
            "46bb1811e58b4c14ba77fe27ec68967e",
            "9308e53464564911ae875aac35467f7e",
            "76da26fcd06f4847ad38032eed07e6c5",
            "b13ac3086a1740af885e3ba59fe056d8",
            "64cf526b20cd49419bc8477ef1e2ff5e",
            "f39fbeff3a334c798f4f7f2ef74f9c3b",
            "755cdc27b3684ebfac7e24e87343eb25",
            "efe2762cd0994f9780279569ddb1d11e",
            "6adcb41adc104d82b054c8d29d33c0d3",
            "a2aa6eaff1054831bc90341e5e21c942",
            "6d62952b540040cea70334dd93874009",
            "ebce6cf52b734bb5964d70bdaf6c0c79",
            "d1b4d08b2c98428ba65edfadda2d9ccc",
            "e454cbea034a481887e75c17aef05988",
            "f6665b8da31b4182a6912c69ab636da9",
            "dc19564da0d74eae81c1c7aeed9111fd",
            "76d0ab71e7554348ab7a51c14961f11a",
            "71105705bbef4d32b52f4589fcade92e",
            "17e1d3e646844a7fba3e2c329350337b",
            "7dcd76b396004a11b0825a71e1f5156f",
            "fa39e73314c34058bc2c382d31e304dd",
            "3b1b8bfa721c489697c9debc3eb79c2c",
            "a72ab94d6c734290be1d0f300d5a2194",
            "b5747ccca0a947bd8daf98164ada3d09",
            "206fabc85c0c446a8ae527cc41254f9e",
            "3d3253716ffd4186a42823278a85719b",
            "1175d888ed27422f801944bfd3c44e05",
            "4dfba8b7024a49369ce76d641f1e9508",
            "d009e5753dd846f281f9817c38141939",
            "9228db8ad86a4b59951b4879b9606481",
            "7739d784ba8a4d06b98524cb1963b22a",
            "6d35590949ed44e5993b8f014e4f1507",
            "6cffcf5d853a486283fca804f4695f6a",
            "45d01a4271ed461e93f6285441b3097a",
            "e8ef64687082444981b41e6721a2ba59",
            "8c84ad32f09343939cfe9d2aa14a4ade",
            "b223aa424228496585be508cc1c66c44",
            "877681f6802648ab902176134635f95e",
            "f620992f26944d70b0907cd7b8eeff89",
            "51084a01d52c4df0981c4ba9ffb111bd",
            "52b0fffd347643c6bb952da5d2f98fac",
            "9e9a62a38a3c48adbc64b1d5ef610186",
            "17f86386fb754830bf918f2f1910b1d5",
            "1150fb706f56437790f20364dd7568ab",
            "7319fa7550954969821ae77b3ddf701c",
            "626316a406934399876d1bcbb82e7b87"
          ]
        },
        "id": "CyuELataCnIN",
        "outputId": "b791384f-abf4-4a54-b431-eca46e58cf97"
      },
      "execution_count": 5,
      "outputs": [
        {
          "output_type": "display_data",
          "data": {
            "text/plain": [
              "Fetching 1 files:   0%|          | 0/1 [00:00<?, ?it/s]"
            ],
            "application/vnd.jupyter.widget-view+json": {
              "version_major": 2,
              "version_minor": 0,
              "model_id": "31cebd4fbc914fd890500117d1e9eeeb"
            }
          },
          "metadata": {}
        },
        {
          "output_type": "display_data",
          "data": {
            "text/plain": [
              "preprocessor_config.json:   0%|          | 0.00/159 [00:00<?, ?B/s]"
            ],
            "application/vnd.jupyter.widget-view+json": {
              "version_major": 2,
              "version_minor": 0,
              "model_id": "b4a6e4e3529c4800b3598ca36e7b96a2"
            }
          },
          "metadata": {}
        },
        {
          "output_type": "display_data",
          "data": {
            "text/plain": [
              "tokenizer_config.json:   0%|          | 0.00/163 [00:00<?, ?B/s]"
            ],
            "application/vnd.jupyter.widget-view+json": {
              "version_major": 2,
              "version_minor": 0,
              "model_id": "7315a21a6cc044b1a65aef8082250492"
            }
          },
          "metadata": {}
        },
        {
          "output_type": "display_data",
          "data": {
            "text/plain": [
              "config.json: 0.00B [00:00, ?B/s]"
            ],
            "application/vnd.jupyter.widget-view+json": {
              "version_major": 2,
              "version_minor": 0,
              "model_id": "76da26fcd06f4847ad38032eed07e6c5"
            }
          },
          "metadata": {}
        },
        {
          "output_type": "display_data",
          "data": {
            "text/plain": [
              "vocab.json:   0%|          | 0.00/291 [00:00<?, ?B/s]"
            ],
            "application/vnd.jupyter.widget-view+json": {
              "version_major": 2,
              "version_minor": 0,
              "model_id": "e454cbea034a481887e75c17aef05988"
            }
          },
          "metadata": {}
        },
        {
          "output_type": "display_data",
          "data": {
            "text/plain": [
              "special_tokens_map.json:   0%|          | 0.00/85.0 [00:00<?, ?B/s]"
            ],
            "application/vnd.jupyter.widget-view+json": {
              "version_major": 2,
              "version_minor": 0,
              "model_id": "206fabc85c0c446a8ae527cc41254f9e"
            }
          },
          "metadata": {}
        },
        {
          "output_type": "display_data",
          "data": {
            "text/plain": [
              "model.safetensors:   0%|          | 0.00/378M [00:00<?, ?B/s]"
            ],
            "application/vnd.jupyter.widget-view+json": {
              "version_major": 2,
              "version_minor": 0,
              "model_id": "8c84ad32f09343939cfe9d2aa14a4ade"
            }
          },
          "metadata": {}
        },
        {
          "output_type": "stream",
          "name": "stderr",
          "text": [
            "Some weights of Wav2Vec2Model were not initialized from the model checkpoint at facebook/wav2vec2-base-960h and are newly initialized: ['masked_spec_embed']\n",
            "You should probably TRAIN this model on a down-stream task to be able to use it for predictions and inference.\n"
          ]
        },
        {
          "output_type": "stream",
          "name": "stdout",
          "text": [
            "Feature dimension set to: 768\n",
            "Train set → total: 17252, bonafide: 9085 (52.66%), spoof: 8167 (47.34%)\n",
            "Val set → total: 4314, bonafide: 2272 (52.67%), spoof: 2042 (47.33%)\n"
          ]
        },
        {
          "output_type": "stream",
          "name": "stderr",
          "text": [
            "Vector DB Build: 100%|██████████| 270/270 [07:32<00:00,  1.68s/it]\n",
            "/usr/local/lib/python3.12/dist-packages/notebook/notebookapp.py:191: SyntaxWarning: invalid escape sequence '\\/'\n",
            "  | |_| | '_ \\/ _` / _` |  _/ -_)\n",
            "\u001b[34m\u001b[1mwandb\u001b[0m: \u001b[33mWARNING\u001b[0m If you're specifying your api key in code, ensure this code is not shared publicly.\n",
            "\u001b[34m\u001b[1mwandb\u001b[0m: \u001b[33mWARNING\u001b[0m Consider setting the WANDB_API_KEY environment variable, or running `wandb login` from the command line.\n",
            "\u001b[34m\u001b[1mwandb\u001b[0m: No netrc file found, creating one.\n",
            "\u001b[34m\u001b[1mwandb\u001b[0m: Appending key for api.wandb.ai to your netrc file: /root/.netrc\n",
            "\u001b[34m\u001b[1mwandb\u001b[0m: Currently logged in as: \u001b[33mavinash-saxena\u001b[0m (\u001b[33mavinash-saxena-san-jose-state-university\u001b[0m) to \u001b[32mhttps://api.wandb.ai\u001b[0m. Use \u001b[1m`wandb login --relogin`\u001b[0m to force relogin\n"
          ]
        },
        {
          "output_type": "display_data",
          "data": {
            "text/plain": [
              "<IPython.core.display.HTML object>"
            ],
            "text/html": []
          },
          "metadata": {}
        },
        {
          "output_type": "display_data",
          "data": {
            "text/plain": [
              "<IPython.core.display.HTML object>"
            ],
            "text/html": [
              "Tracking run with wandb version 0.21.4"
            ]
          },
          "metadata": {}
        },
        {
          "output_type": "display_data",
          "data": {
            "text/plain": [
              "<IPython.core.display.HTML object>"
            ],
            "text/html": [
              "Run data is saved locally in <code>/content/wandb/run-20251002_112921-3aydmvta</code>"
            ]
          },
          "metadata": {}
        },
        {
          "output_type": "display_data",
          "data": {
            "text/plain": [
              "<IPython.core.display.HTML object>"
            ],
            "text/html": [
              "Syncing run <strong><a href='https://wandb.ai/avinash-saxena-san-jose-state-university/deepfake-audio-raf/runs/3aydmvta' target=\"_blank\">colab-8df57b0d30af-653</a></strong> to <a href='https://wandb.ai/avinash-saxena-san-jose-state-university/deepfake-audio-raf' target=\"_blank\">Weights & Biases</a> (<a href='https://wandb.me/developer-guide' target=\"_blank\">docs</a>)<br>"
            ]
          },
          "metadata": {}
        },
        {
          "output_type": "display_data",
          "data": {
            "text/plain": [
              "<IPython.core.display.HTML object>"
            ],
            "text/html": [
              " View project at <a href='https://wandb.ai/avinash-saxena-san-jose-state-university/deepfake-audio-raf' target=\"_blank\">https://wandb.ai/avinash-saxena-san-jose-state-university/deepfake-audio-raf</a>"
            ]
          },
          "metadata": {}
        },
        {
          "output_type": "display_data",
          "data": {
            "text/plain": [
              "<IPython.core.display.HTML object>"
            ],
            "text/html": [
              " View run at <a href='https://wandb.ai/avinash-saxena-san-jose-state-university/deepfake-audio-raf/runs/3aydmvta' target=\"_blank\">https://wandb.ai/avinash-saxena-san-jose-state-university/deepfake-audio-raf/runs/3aydmvta</a>"
            ]
          },
          "metadata": {}
        },
        {
          "output_type": "stream",
          "name": "stderr",
          "text": [
            "Epoch 1/10: 100%|██████████| 68/68 [07:24<00:00,  6.53s/it]\n",
            "Evaluating: 100%|██████████| 17/17 [01:50<00:00,  6.50s/it]\n"
          ]
        },
        {
          "output_type": "stream",
          "name": "stdout",
          "text": [
            "Epoch 1: Train Loss: 0.6734, Train Acc: 0.5279, Val Loss: 0.6318, Val Acc:0.5751 | AUC: 0.7430, EER: 32.26% (thr=-0.1161), Macro EER: 28.04%, min t-DCF: nan\n"
          ]
        },
        {
          "output_type": "stream",
          "name": "stderr",
          "text": [
            "Epoch 2/10:   0%|          | 0/68 [00:00<?, ?it/s]\u001b[34m\u001b[1mwandb\u001b[0m: \u001b[33mWARNING\u001b[0m Tried to log to step 68 that is less than the current step 69. Steps must be monotonically increasing, so this data will be ignored. See https://wandb.me/define-metric to log data out of order.\n",
            "Epoch 2/10:   1%|▏         | 1/68 [00:06<07:35,  6.80s/it]\u001b[34m\u001b[1mwandb\u001b[0m: \u001b[33mWARNING\u001b[0m Tried to log to step 68 that is less than the current step 70. Steps must be monotonically increasing, so this data will be ignored. See https://wandb.me/define-metric to log data out of order.\n",
            "Epoch 2/10:   4%|▍         | 3/68 [00:19<07:07,  6.58s/it]\u001b[34m\u001b[1mwandb\u001b[0m: \u001b[33mWARNING\u001b[0m Tried to log to step 69 that is less than the current step 70. Steps must be monotonically increasing, so this data will be ignored. See https://wandb.me/define-metric to log data out of order.\n",
            "Epoch 2/10: 100%|██████████| 68/68 [07:19<00:00,  6.46s/it]\n",
            "Evaluating: 100%|██████████| 17/17 [01:49<00:00,  6.46s/it]\n"
          ]
        },
        {
          "output_type": "stream",
          "name": "stdout",
          "text": [
            "Epoch 2: Train Loss: 0.5585, Train Acc: 0.6904, Val Loss: 0.4489, Val Acc:0.7837 | AUC: 0.8690, EER: 20.93% (thr=-0.4155), Macro EER: 17.01%, min t-DCF: nan\n"
          ]
        },
        {
          "output_type": "stream",
          "name": "stderr",
          "text": [
            "Epoch 3/10:   0%|          | 0/68 [00:00<?, ?it/s]\u001b[34m\u001b[1mwandb\u001b[0m: \u001b[33mWARNING\u001b[0m Tried to log to step 136 that is less than the current step 137. Steps must be monotonically increasing, so this data will be ignored. See https://wandb.me/define-metric to log data out of order.\n",
            "Epoch 3/10:   1%|▏         | 1/68 [00:06<07:34,  6.78s/it]\u001b[34m\u001b[1mwandb\u001b[0m: \u001b[33mWARNING\u001b[0m Tried to log to step 136 that is less than the current step 138. Steps must be monotonically increasing, so this data will be ignored. See https://wandb.me/define-metric to log data out of order.\n",
            "Epoch 3/10:   4%|▍         | 3/68 [00:19<07:04,  6.53s/it]\u001b[34m\u001b[1mwandb\u001b[0m: \u001b[33mWARNING\u001b[0m Tried to log to step 137 that is less than the current step 138. Steps must be monotonically increasing, so this data will be ignored. See https://wandb.me/define-metric to log data out of order.\n",
            "Epoch 3/10: 100%|██████████| 68/68 [07:18<00:00,  6.46s/it]\n",
            "Evaluating: 100%|██████████| 17/17 [01:50<00:00,  6.47s/it]\n"
          ]
        },
        {
          "output_type": "stream",
          "name": "stdout",
          "text": [
            "Epoch 3: Train Loss: 0.4241, Train Acc: 0.8062, Val Loss: 0.6739, Val Acc:0.5355 | AUC: 0.8578, EER: 21.42% (thr=0.8779), Macro EER: 18.07%, min t-DCF: nan\n"
          ]
        },
        {
          "output_type": "stream",
          "name": "stderr",
          "text": [
            "Epoch 4/10:   0%|          | 0/68 [00:00<?, ?it/s]\u001b[34m\u001b[1mwandb\u001b[0m: \u001b[33mWARNING\u001b[0m Tried to log to step 204 that is less than the current step 205. Steps must be monotonically increasing, so this data will be ignored. See https://wandb.me/define-metric to log data out of order.\n",
            "Epoch 4/10:   1%|▏         | 1/68 [00:06<07:32,  6.75s/it]\u001b[34m\u001b[1mwandb\u001b[0m: \u001b[33mWARNING\u001b[0m Tried to log to step 204 that is less than the current step 206. Steps must be monotonically increasing, so this data will be ignored. See https://wandb.me/define-metric to log data out of order.\n",
            "Epoch 4/10:   4%|▍         | 3/68 [00:19<07:04,  6.52s/it]\u001b[34m\u001b[1mwandb\u001b[0m: \u001b[33mWARNING\u001b[0m Tried to log to step 205 that is less than the current step 206. Steps must be monotonically increasing, so this data will be ignored. See https://wandb.me/define-metric to log data out of order.\n",
            "Epoch 4/10: 100%|██████████| 68/68 [07:19<00:00,  6.46s/it]\n",
            "Evaluating: 100%|██████████| 17/17 [01:49<00:00,  6.47s/it]\n"
          ]
        },
        {
          "output_type": "stream",
          "name": "stdout",
          "text": [
            "Epoch 4: Train Loss: 0.4343, Train Acc: 0.7968, Val Loss: 0.2630, Val Acc:0.9026 | AUC: 0.9676, EER: 6.02% (thr=1.9326), Macro EER: 5.06%, min t-DCF: nan\n"
          ]
        },
        {
          "output_type": "stream",
          "name": "stderr",
          "text": [
            "Epoch 5/10:   0%|          | 0/68 [00:00<?, ?it/s]\u001b[34m\u001b[1mwandb\u001b[0m: \u001b[33mWARNING\u001b[0m Tried to log to step 272 that is less than the current step 273. Steps must be monotonically increasing, so this data will be ignored. See https://wandb.me/define-metric to log data out of order.\n",
            "Epoch 5/10:   1%|▏         | 1/68 [00:06<07:41,  6.89s/it]\u001b[34m\u001b[1mwandb\u001b[0m: \u001b[33mWARNING\u001b[0m Tried to log to step 272 that is less than the current step 274. Steps must be monotonically increasing, so this data will be ignored. See https://wandb.me/define-metric to log data out of order.\n",
            "Epoch 5/10:   4%|▍         | 3/68 [00:19<07:09,  6.61s/it]\u001b[34m\u001b[1mwandb\u001b[0m: \u001b[33mWARNING\u001b[0m Tried to log to step 273 that is less than the current step 274. Steps must be monotonically increasing, so this data will be ignored. See https://wandb.me/define-metric to log data out of order.\n",
            "Epoch 5/10: 100%|██████████| 68/68 [07:20<00:00,  6.48s/it]\n",
            "Evaluating: 100%|██████████| 17/17 [01:50<00:00,  6.47s/it]\n"
          ]
        },
        {
          "output_type": "stream",
          "name": "stdout",
          "text": [
            "Epoch 5: Train Loss: 0.3545, Train Acc: 0.8660, Val Loss: 0.5046, Val Acc:0.7049 | AUC: 0.9782, EER: 3.71% (thr=1.6943), Macro EER: 3.32%, min t-DCF: nan\n"
          ]
        },
        {
          "output_type": "stream",
          "name": "stderr",
          "text": [
            "Epoch 6/10:   1%|▏         | 1/68 [00:06<07:35,  6.79s/it]\u001b[34m\u001b[1mwandb\u001b[0m: \u001b[33mWARNING\u001b[0m Tried to log to step 340 that is less than the current step 341. Steps must be monotonically increasing, so this data will be ignored. See https://wandb.me/define-metric to log data out of order.\n",
            "\u001b[34m\u001b[1mwandb\u001b[0m: \u001b[33mWARNING\u001b[0m Tried to log to step 340 that is less than the current step 342. Steps must be monotonically increasing, so this data will be ignored. See https://wandb.me/define-metric to log data out of order.\n",
            "Epoch 6/10:   3%|▎         | 2/68 [00:13<07:16,  6.61s/it]\u001b[34m\u001b[1mwandb\u001b[0m: \u001b[33mWARNING\u001b[0m Tried to log to step 341 that is less than the current step 342. Steps must be monotonically increasing, so this data will be ignored. See https://wandb.me/define-metric to log data out of order.\n",
            "Epoch 6/10: 100%|██████████| 68/68 [07:20<00:00,  6.48s/it]\n",
            "Evaluating: 100%|██████████| 17/17 [01:50<00:00,  6.48s/it]\n"
          ]
        },
        {
          "output_type": "stream",
          "name": "stdout",
          "text": [
            "Epoch 6: Train Loss: 0.3507, Train Acc: 0.8608, Val Loss: 0.2592, Val Acc:0.8987 | AUC: 0.9736, EER: 4.68% (thr=2.3535), Macro EER: 3.88%, min t-DCF: nan\n"
          ]
        },
        {
          "output_type": "stream",
          "name": "stderr",
          "text": [
            "Epoch 7/10:   0%|          | 0/68 [00:00<?, ?it/s]\u001b[34m\u001b[1mwandb\u001b[0m: \u001b[33mWARNING\u001b[0m Tried to log to step 408 that is less than the current step 409. Steps must be monotonically increasing, so this data will be ignored. See https://wandb.me/define-metric to log data out of order.\n",
            "Epoch 7/10:   3%|▎         | 2/68 [00:13<07:23,  6.72s/it]\u001b[34m\u001b[1mwandb\u001b[0m: \u001b[33mWARNING\u001b[0m Tried to log to step 408 that is less than the current step 410. Steps must be monotonically increasing, so this data will be ignored. See https://wandb.me/define-metric to log data out of order.\n",
            "\u001b[34m\u001b[1mwandb\u001b[0m: \u001b[33mWARNING\u001b[0m Tried to log to step 409 that is less than the current step 410. Steps must be monotonically increasing, so this data will be ignored. See https://wandb.me/define-metric to log data out of order.\n",
            "Epoch 7/10: 100%|██████████| 68/68 [07:20<00:00,  6.48s/it]\n",
            "Evaluating: 100%|██████████| 17/17 [01:49<00:00,  6.47s/it]\n"
          ]
        },
        {
          "output_type": "stream",
          "name": "stdout",
          "text": [
            "Epoch 7: Train Loss: 0.2079, Train Acc: 0.9310, Val Loss: 0.9852, Val Acc:0.6340 | AUC: 0.9035, EER: 18.07% (thr=-3.1426), Macro EER: 12.70%, min t-DCF: nan\n"
          ]
        },
        {
          "output_type": "stream",
          "name": "stderr",
          "text": [
            "Epoch 8/10:   0%|          | 0/68 [00:00<?, ?it/s]\u001b[34m\u001b[1mwandb\u001b[0m: \u001b[33mWARNING\u001b[0m Tried to log to step 476 that is less than the current step 477. Steps must be monotonically increasing, so this data will be ignored. See https://wandb.me/define-metric to log data out of order.\n",
            "Epoch 8/10:   1%|▏         | 1/68 [00:06<07:35,  6.80s/it]\u001b[34m\u001b[1mwandb\u001b[0m: \u001b[33mWARNING\u001b[0m Tried to log to step 476 that is less than the current step 478. Steps must be monotonically increasing, so this data will be ignored. See https://wandb.me/define-metric to log data out of order.\n",
            "Epoch 8/10:   4%|▍         | 3/68 [00:19<07:10,  6.62s/it]\u001b[34m\u001b[1mwandb\u001b[0m: \u001b[33mWARNING\u001b[0m Tried to log to step 477 that is less than the current step 478. Steps must be monotonically increasing, so this data will be ignored. See https://wandb.me/define-metric to log data out of order.\n",
            "Epoch 8/10: 100%|██████████| 68/68 [07:21<00:00,  6.49s/it]\n",
            "Evaluating: 100%|██████████| 17/17 [01:50<00:00,  6.48s/it]\n"
          ]
        },
        {
          "output_type": "stream",
          "name": "stdout",
          "text": [
            "Epoch 8: Train Loss: 0.1925, Train Acc: 0.9396, Val Loss: 0.1667, Val Acc:0.9655 | AUC: 0.9751, EER: 3.55% (thr=-1.3389), Macro EER: 3.80%, min t-DCF: nan\n"
          ]
        },
        {
          "output_type": "stream",
          "name": "stderr",
          "text": [
            "\u001b[34m\u001b[1mwandb\u001b[0m: \u001b[33mWARNING\u001b[0m Tried to log to step 544 that is less than the current step 545. Steps must be monotonically increasing, so this data will be ignored. See https://wandb.me/define-metric to log data out of order.\n",
            "Epoch 9/10:   1%|▏         | 1/68 [00:06<07:30,  6.73s/it]\u001b[34m\u001b[1mwandb\u001b[0m: \u001b[33mWARNING\u001b[0m Tried to log to step 544 that is less than the current step 546. Steps must be monotonically increasing, so this data will be ignored. See https://wandb.me/define-metric to log data out of order.\n",
            "Epoch 9/10:   4%|▍         | 3/68 [00:19<07:05,  6.55s/it]\u001b[34m\u001b[1mwandb\u001b[0m: \u001b[33mWARNING\u001b[0m Tried to log to step 545 that is less than the current step 546. Steps must be monotonically increasing, so this data will be ignored. See https://wandb.me/define-metric to log data out of order.\n",
            "Epoch 9/10: 100%|██████████| 68/68 [07:19<00:00,  6.47s/it]\n",
            "Evaluating: 100%|██████████| 17/17 [01:50<00:00,  6.48s/it]\n"
          ]
        },
        {
          "output_type": "stream",
          "name": "stdout",
          "text": [
            "Epoch 9: Train Loss: 0.2775, Train Acc: 0.9024, Val Loss: 0.4229, Val Acc:0.8449 | AUC: 0.9820, EER: 3.66% (thr=2.9238), Macro EER: 2.21%, min t-DCF: nan\n"
          ]
        },
        {
          "output_type": "stream",
          "name": "stderr",
          "text": [
            "Epoch 10/10:   1%|▏         | 1/68 [00:06<07:40,  6.88s/it]\u001b[34m\u001b[1mwandb\u001b[0m: \u001b[33mWARNING\u001b[0m Tried to log to step 612 that is less than the current step 613. Steps must be monotonically increasing, so this data will be ignored. See https://wandb.me/define-metric to log data out of order.\n",
            "\u001b[34m\u001b[1mwandb\u001b[0m: \u001b[33mWARNING\u001b[0m Tried to log to step 612 that is less than the current step 614. Steps must be monotonically increasing, so this data will be ignored. See https://wandb.me/define-metric to log data out of order.\n",
            "Epoch 10/10:   3%|▎         | 2/68 [00:13<07:19,  6.67s/it]\u001b[34m\u001b[1mwandb\u001b[0m: \u001b[33mWARNING\u001b[0m Tried to log to step 613 that is less than the current step 614. Steps must be monotonically increasing, so this data will be ignored. See https://wandb.me/define-metric to log data out of order.\n",
            "Epoch 10/10: 100%|██████████| 68/68 [07:18<00:00,  6.45s/it]\n",
            "Evaluating: 100%|██████████| 17/17 [01:50<00:00,  6.51s/it]\n"
          ]
        },
        {
          "output_type": "stream",
          "name": "stdout",
          "text": [
            "Epoch 10: Train Loss: 0.2375, Train Acc: 0.9219, Val Loss: 0.6646, Val Acc:0.7701 | AUC: 0.9832, EER: 4.76% (thr=-3.4414), Macro EER: 2.84%, min t-DCF: nan\n"
          ]
        },
        {
          "output_type": "display_data",
          "data": {
            "text/plain": [
              "<IPython.core.display.HTML object>"
            ],
            "text/html": []
          },
          "metadata": {}
        },
        {
          "output_type": "display_data",
          "data": {
            "text/plain": [
              "<IPython.core.display.HTML object>"
            ],
            "text/html": [
              "<br>    <style><br>        .wandb-row {<br>            display: flex;<br>            flex-direction: row;<br>            flex-wrap: wrap;<br>            justify-content: flex-start;<br>            width: 100%;<br>        }<br>        .wandb-col {<br>            display: flex;<br>            flex-direction: column;<br>            flex-basis: 100%;<br>            flex: 1;<br>            padding: 10px;<br>        }<br>    </style><br><div class=\"wandb-row\"><div class=\"wandb-col\"><h3>Run history:</h3><br/><table class=\"wandb\"><tr><td>curves/auc</td><td>▁▅▄███▆███</td></tr><tr><td>grad_norm/detection</td><td>▁▂▁▁▂▂▃▁▂▃█▄▄▂▁▂▅▅▃▂▆▄▁▂▁▁▁▂▂▁▁▁▁▁▁▄▃▃▃▁</td></tr><tr><td>grad_norm/fuse</td><td>▂▁▁▁▁▂▁▁▁▂█▄▁▁▃▁▁▂▁▁▁▁▁▁▁▁▁▁▁▁▁▁▁▁▁▁▂▂▁▁</td></tr><tr><td>grad_norm/projection</td><td>▁▁▁▁▂▂▂▁▁▃▂▁▂▂▂▂▄▁▁▂▂▁▃▂▁█▃▅▄▅▆▂▁▂▁▂▆▁▂▅</td></tr><tr><td>lr/detection</td><td>▁▁▁▁▁▁▁▁▁▁▁▁▁▁▁▁▁▁▁▁▁▁▁▁▁▁▁▁▁▁▁▁▁▁▁▁▁▁▁▁</td></tr><tr><td>lr/fuse</td><td>▁▁▁▁▁▁▁▁▁▁▁▁▁▁▁▁▁▁▁▁▁▁▁▁▁▁▁▁▁▁▁▁▁▁▁▁▁▁▁▁</td></tr><tr><td>lr/projection</td><td>▁▁▁▁▁▁▁▁▁▁▁▁▁▁▁▁▁▁▁▁▁▁▁▁▁▁▁▁▁▁▁▁▁▁▁▁▁▁▁▁</td></tr><tr><td>train/batch_loss</td><td>▆▆▆▆▆▆▆▅▅▅▄▄▃▆▂▂▂▂▁▅▂▂▂▅▁▂▂▂▁▁▄▂▂▁▃▃▃▁▁█</td></tr><tr><td>train/nnz_neighbor_rate</td><td>▁▁▁▁▁▁▁▁▁▁▁▁▁▁▁▁▁▁▁▁▁▁▁▁▁▁▁▁▁▁▁▁▁▁▁▁▁▁▁▁</td></tr></table><br/></div><div class=\"wandb-col\"><h3>Run summary:</h3><br/><table class=\"wandb\"><tr><td>curves/auc</td><td>0.98321</td></tr><tr><td>grad_norm/detection</td><td>0.23469</td></tr><tr><td>grad_norm/fuse</td><td>0.07524</td></tr><tr><td>grad_norm/projection</td><td>9.56267</td></tr><tr><td>lr/detection</td><td>0.001</td></tr><tr><td>lr/fuse</td><td>0.001</td></tr><tr><td>lr/projection</td><td>0.001</td></tr><tr><td>train/batch_loss</td><td>0.1519</td></tr><tr><td>train/nnz_neighbor_rate</td><td>1</td></tr></table><br/></div></div>"
            ]
          },
          "metadata": {}
        },
        {
          "output_type": "display_data",
          "data": {
            "text/plain": [
              "<IPython.core.display.HTML object>"
            ],
            "text/html": [
              " View run <strong style=\"color:#cdcd00\">colab-8df57b0d30af-653</strong> at: <a href='https://wandb.ai/avinash-saxena-san-jose-state-university/deepfake-audio-raf/runs/3aydmvta' target=\"_blank\">https://wandb.ai/avinash-saxena-san-jose-state-university/deepfake-audio-raf/runs/3aydmvta</a><br> View project at: <a href='https://wandb.ai/avinash-saxena-san-jose-state-university/deepfake-audio-raf' target=\"_blank\">https://wandb.ai/avinash-saxena-san-jose-state-university/deepfake-audio-raf</a><br>Synced 5 W&B file(s), 40 media file(s), 32 artifact file(s) and 0 other file(s)"
            ]
          },
          "metadata": {}
        },
        {
          "output_type": "display_data",
          "data": {
            "text/plain": [
              "<IPython.core.display.HTML object>"
            ],
            "text/html": [
              "Find logs at: <code>./wandb/run-20251002_112921-3aydmvta/logs</code>"
            ]
          },
          "metadata": {}
        },
        {
          "output_type": "display_data",
          "data": {
            "text/plain": [
              "<IPython.core.display.HTML object>"
            ],
            "text/html": [
              "Tried to log to step 680 that is less than the current step 681. Steps must be monotonically increasing, so this data will be ignored. See https://wandb.me/define-metric to log data out of order."
            ]
          },
          "metadata": {}
        },
        {
          "output_type": "display_data",
          "data": {
            "text/plain": [
              "<IPython.core.display.HTML object>"
            ],
            "text/html": [
              "Tried to log to step 680 that is less than the current step 682. Steps must be monotonically increasing, so this data will be ignored. See https://wandb.me/define-metric to log data out of order."
            ]
          },
          "metadata": {}
        }
      ]
    },
    {
      "cell_type": "markdown",
      "source": [
        "## Loss and Accuracy Curves"
      ],
      "metadata": {
        "id": "EXD3QgTcCN64"
      }
    },
    {
      "cell_type": "code",
      "source": [
        "pipeline.plot_training_curves()"
      ],
      "metadata": {
        "id": "m0-RKvBgDyRG"
      },
      "execution_count": 6,
      "outputs": []
    },
    {
      "cell_type": "code",
      "source": [
        "pipeline.show_curves_inline(smooth=7)"
      ],
      "metadata": {
        "id": "88z1PgOMEdnb",
        "colab": {
          "base_uri": "https://localhost:8080/",
          "height": 283
        },
        "outputId": "c4edc51e-c834-4e6b-d8a3-343c09c92ae0"
      },
      "execution_count": 7,
      "outputs": [
        {
          "output_type": "display_data",
          "data": {
            "text/plain": [
              "<Figure size 1200x500 with 2 Axes>"
            ],
            "image/png": "[encoded data removed]"
          },
          "metadata": {}
        }
      ]
    },
    {
      "cell_type": "markdown",
      "source": [
        "## Sample Predictions"
      ],
      "metadata": {
        "id": "gYn6UYPafS6i"
      }
    },
    {
      "cell_type": "markdown",
      "source": [
        "### Spoof Prediction"
      ],
      "metadata": {
        "id": "yxVrNxh_fWz4"
      }
    },
    {
      "cell_type": "code",
      "source": [
        "import pandas as pd\n",
        "file_name = \"FakeAVCeleb_FakeVideo-FakeAudio_Asian_South_women_id07689__00028_id06254_wavtolip.wav\"\n",
        "audio_path = \"/content/FakeAVCelebAudio/\"+file_name\n",
        "\n",
        "df = pd.read_csv(\"/content/FakeAVCelebAudio/meta.csv\")\n",
        "expected = df[df[\"file\"]==file_name]\n",
        "\n",
        "\n",
        "# 12. Single-file prediction on GPU\n",
        "result = pipeline.predict(audio_path)\n",
        "\n",
        "filtered_df = df[df[\"file\"].isin(result['retrieved_files'])]\n",
        "\n",
        "\n",
        "print(f\"Prediction  : {result['prediction']}, Expected: {expected['label'].values[0]}, Speaker: {expected['speaker'].values[0]}\")\n",
        "print(f\"Probability Spoof: {result['probability_spoof']:.4f}\")\n",
        "print(\"Similar Audio Files retrieved\")\n",
        "print(filtered_df)"
      ],
      "metadata": {
        "id": "u9iyjuWEr_5i",
        "colab": {
          "base_uri": "https://localhost:8080/"
        },
        "outputId": "17b138a0-c446-4cdf-c814-82cfcdc4d909"
      },
      "execution_count": 14,
      "outputs": [
        {
          "output_type": "stream",
          "name": "stdout",
          "text": [
            "Prediction  : spoof, Expected: spoof, Speaker: id07689\n",
            "Probability Spoof: 0.9042\n",
            "Similar Audio Files retrieved\n",
            "                                                    file  speaker  label\n",
            "4180   FakeAVCeleb_FakeVideo-FakeAudio_Asian_South_wo...  id00488  spoof\n",
            "4233   FakeAVCeleb_FakeVideo-FakeAudio_Asian_South_wo...  id03897  spoof\n",
            "21098  FakeAVCeleb_FakeVideo-FakeAudio_Asian_South_wo...  id00043  spoof\n",
            "21460  FakeAVCeleb_FakeVideo-FakeAudio_Asian_South_wo...  id06439  spoof\n",
            "21553  FakeAVCeleb_FakeVideo-FakeAudio_Asian_South_wo...  id07686  spoof\n"
          ]
        }
      ]
    },
    {
      "cell_type": "markdown",
      "source": [
        "### Bonafide Prediction"
      ],
      "metadata": {
        "id": "Fvru2HiFfbC1"
      }
    },
    {
      "cell_type": "code",
      "source": [
        "file_name = \"FakeAVCeleb_RealVideo-RealAudio_African_men_id00391__00052.wav\"\n",
        "audio_path = \"/content/FakeAVCelebAudio/\"+file_name\n",
        "\n",
        "df = pd.read_csv(\"/content/FakeAVCelebAudio/meta.csv\")\n",
        "expected = df[df[\"file\"]==file_name]\n",
        "\n",
        "\n",
        "# 12. Single-file prediction on GPU\n",
        "result = pipeline.predict(audio_path)\n",
        "\n",
        "filtered_df = df[df[\"file\"].isin(result['retrieved_files'])]\n",
        "\n",
        "\n",
        "print(f\"Prediction  : {result['prediction']}, Expected: {expected['label'].values[0]}, Speaker: {expected['speaker'].values[0]}\")\n",
        "print(f\"Probability Spoof: {result['probability_spoof']:.4f}\")\n",
        "print(\"Similar Audio Files retrieved\")\n",
        "print(filtered_df)"
      ],
      "metadata": {
        "colab": {
          "base_uri": "https://localhost:8080/"
        },
        "id": "kiJBQ0EpeAA4",
        "outputId": "f0b17a1d-2b3c-4261-f868-f5a35c83b27d"
      },
      "execution_count": 11,
      "outputs": [
        {
          "output_type": "stream",
          "name": "stdout",
          "text": [
            "Prediction  : bona-fide, Expected: bona-fide, Speaker: id00391\n",
            "Probability Spoof: 0.0288\n",
            "Similar Audio Files retrieved\n",
            "                                                   file  speaker      label\n",
            "1073  FakeAVCeleb_FakeVideo-RealAudio_African_men_id...  id02296  bona-fide\n",
            "4488  FakeAVCeleb_FakeVideo-RealAudio_African_men_id...  id00391  bona-fide\n",
            "4489  FakeAVCeleb_FakeVideo-RealAudio_African_men_id...  id00391  bona-fide\n",
            "4490  FakeAVCeleb_FakeVideo-RealAudio_African_men_id...  id00391  bona-fide\n",
            "4494  FakeAVCeleb_FakeVideo-RealAudio_African_men_id...  id00391  bona-fide\n"
          ]
        }
      ]
    }
  ]
}