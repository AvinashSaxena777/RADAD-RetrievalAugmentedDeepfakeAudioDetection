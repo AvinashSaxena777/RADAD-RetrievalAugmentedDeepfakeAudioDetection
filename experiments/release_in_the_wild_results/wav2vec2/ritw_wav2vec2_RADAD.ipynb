{
  "nbformat": 4,
  "nbformat_minor": 0,
  "metadata": {
    "colab": {
      "provenance": [],
      "gpuType": "T4"
    },
    "kernelspec": {
      "name": "python3",
      "display_name": "Python 3"
    },
    "language_info": {
      "name": "python"
    },
    "accelerator": "GPU"
  },
  "cells": [
    {
      "cell_type": "markdown",
      "source": [
        "# Wav2Vec2 - Release In The Wild - Retreival Augmented Framework for Deepfake Audio Detection"
      ],
      "metadata": {
        "id": "gYFz4TH1e1So"
      }
    },
    {
      "cell_type": "markdown",
      "source": [
        "## Wav2Vec2 Model for Deepfake Audio Detection\n",
        "\n",
        "### Summary of Key Processing Steps in Wav2Vec2\n",
        "\n",
        "1. Directly processes raw audio using convolutional layers in the feature encoder.\n",
        "2. Utilizes a Transformer to capture temporal relationships across the audio sequence.\n",
        "3. Fine-tunes easily for classification tasks by adding a lightweight classification head.\n",
        "4. Pre-trained on vast unlabeled audio data, enabling it to perform well with limited labeled data for classification."
      ],
      "metadata": {
        "id": "baRToS6rf9hk"
      }
    },
    {
      "cell_type": "markdown",
      "source": [
        "## Training"
      ],
      "metadata": {
        "id": "wPuw8SmvfGVN"
      }
    },
    {
      "cell_type": "code",
      "source": [
        "import logging\n",
        "from config import Config\n",
        "from dataset import AudioDataset\n",
        "import argparse\n",
        "import os\n",
        "from pipeline import DeepfakeDetectionPipeline\n",
        "import torch\n",
        "\n",
        "# ========================\n",
        "# Main runner (same behavior; wandb toggle)\n",
        "# ========================\n",
        "\"\"\"\n",
        "Run the complete audio deepfake detection pipeline with single-GPU optimizations.\n",
        "\"\"\"\n",
        "import argparse\n",
        "\n",
        "# 1. Configure logging\n",
        "logging.basicConfig(\n",
        "    level=logging.INFO,\n",
        "    format='%(asctime)s - %(name)s - %(levelname)s - %(message)s'\n",
        ")\n",
        "\n",
        "# 3. Disable problematic torchaudio backends\n",
        "os.environ[\"TORCHAUDIO_USE_SOX\"] = \"0\"\n",
        "os.environ[\"TORCHAUDIO_USE_BACKEND_DISPATCHER\"] = \"1\"\n",
        "\n",
        "# 4. Set device\n",
        "device = torch.device(\"cuda:0\" if torch.cuda.is_available() else \"cpu\")\n",
        "if device.type == \"cuda\":\n",
        "    torch.cuda.set_device(device)\n",
        "\n",
        "# 5. Create configuration\n",
        "config = Config()\n",
        "config.device = device\n",
        "\n",
        "config.train_split = 0.8\n",
        "mode = \"train\"\n",
        "audio_path = None\n",
        "config.feature_extractor_type = \"wav2vec2\"\n",
        "pipeline_check = False\n",
        "\n",
        "if pipeline_check:\n",
        "  config.data_fraction = 0.01\n",
        "  config.num_epochs = 2\n",
        "  # 5a. Wandb toggle\n",
        "  use_wandb = False  # set False to disable W&B\n",
        "else:\n",
        "  config.data_fraction = 1.0\n",
        "  config.num_epochs = 10\n",
        "  # 5a. Wandb toggle\n",
        "  use_wandb = True  # set False to disable W&B\n",
        "\n",
        "\n",
        "config.use_wandb = use_wandb\n",
        "\n",
        "# 6. DataLoader settings\n",
        "config.num_workers = max(1, torch.cuda.device_count() * 2)\n",
        "config.train_batch_size = getattr(config, \"train_batch_size\", 256)\n",
        "config.eval_batch_size = getattr(config, \"eval_batch_size\", 256)\n",
        "config.db_batch_size = getattr(config, \"db_batch_size\", 64)\n",
        "config.top_k = getattr(config, \"top_k\", 5)\n",
        "config.use_batch_norm = False\n",
        "config.use_layer_norm = True\n",
        "\n",
        "\n",
        "# 7. Initialize pipeline\n",
        "pipeline = DeepfakeDetectionPipeline(config)\n",
        "\n",
        "if mode == \"train\":\n",
        "    train_dataset = AudioDataset(config, is_train=True, split_data=True)\n",
        "    val_dataset   = AudioDataset(config, is_train=False, split_data=True)\n",
        "    pipeline.print_split_stats(train_dataset, \"Train\")\n",
        "    pipeline.print_split_stats(val_dataset,   \"Val\")\n",
        "    pipeline.train(train_dataset, val_dataset)\n",
        "\n",
        "elif mode == \"evaluate\":\n",
        "    config.use_wandb = False\n",
        "    pipeline.load_models(\"final_model\")\n",
        "    pipeline.vector_db.load()\n",
        "\n",
        "    test_dataset = AudioDataset(config, is_train=False, split_data=True)\n",
        "    if hasattr(pipeline, \"evaluate_with_metrics\"):\n",
        "        metrics = pipeline.evaluate_with_metrics(test_dataset)\n",
        "        print(\"Evaluation metrics:\")\n",
        "        for key, value in metrics.items():\n",
        "            print(f\"{key}: {value}\")\n",
        "    else:\n",
        "        loss, acc = pipeline.evaluate(test_dataset)\n",
        "        print(f\"Eval Loss: {loss:.4f}, Eval Acc: {acc:.4f}\")\n",
        "\n",
        "elif mode == \"predict\":\n",
        "    if not audio_path:\n",
        "        raise ValueError(\"Audio path must be provided for predict mode\")\n",
        "    pipeline.load_models(\"best_model\")\n",
        "    pipeline.vector_db.load()\n",
        "    result = pipeline.predict(audio_path)\n",
        "    logging.info(f\"Prediction  : {result['prediction']}\")\n",
        "    logging.info(f\"Probability(bona-fide) : {result['probability_bonafide']:.4f}\")\n",
        "    logging.info(f\"Retrieved   : {result['retrieved_labels']}\")"
      ],
      "metadata": {
        "colab": {
          "base_uri": "https://localhost:8080/",
          "height": 1000,
          "referenced_widgets": [
            "41372c130160418e91511fe04e304451",
            "2b0fc908ef9a4e689351d90466ac3780",
            "2c6403553a334f90aaf0dfcc752e017e",
            "b57d7bfe38d643619dbe455960d925c4",
            "d4b3599fdd854c2ca1ca51dd38500236",
            "52cf3e7c6fe64d629da974efbb44e9ac",
            "2ed586e41ae340918e8a2cd7ee391c97",
            "99fac43a9ac74d6388f2b1ae04d6b146",
            "fc4509036cfb4a5d9e197c2ab4493977",
            "9bccf43ff6e24acbb05092b7f5f086f2",
            "1d70ef3b2a8d4d728bcb8bf07cf23063",
            "bc23ad74897d45caaf6806a5746d5882",
            "6b6e3da0fe1947f696b6fbdead7361ab",
            "bcae75dbc4db432cb3c84921629a6b04",
            "2512281da4fb4049b0bbb1c72c69058c",
            "76f9ce5386204d5abf0d28bc4e0b40f9",
            "5270696a427245c3a554a2c998cef03c",
            "0964f2f891c8489f8c768d40b1538114",
            "9681320006964b0fae99de65b1a80aac",
            "0194162793c340628b3863644410ec50",
            "d7705876473c41c586271aadd1e6e9d2",
            "32f778795e2d434982c05586ef0d5d1f",
            "18e305c6b8174e639c176e01b87f126d",
            "bec0bfa53f024fad8e9dd6ded5f394e4",
            "0fe2978230c94771aa1ce4cbb3d14d45",
            "91b0cf80f956482e986c4b9a16b5bca2",
            "e41182900b844b9b869dda9986df85ab",
            "b92a06dcd59648ccb423cea225c2e882",
            "cbd371de7eec4ba8990a8c11588b05fd",
            "9e350269f653464daf917eda154b812e",
            "c66172d728534393a32ab9dffc321fde",
            "2ac1e862a7da4b18b6344f7baf6f5805",
            "d65a52e4c4954822ad0022908be40b6b",
            "8533efc411ed46509739725ffa6d15de",
            "1317d7ec6ff64b8ea85878cb47108a9b",
            "84e7e693e0c94440b5d2a014cd022beb",
            "2e2ef8be4b834bf781ef84e73e383d56",
            "de616e8e873447b08978e8353a090d2a",
            "102e09941b394562a13cca959910bef2",
            "7a191465013641b0aa5e2ad35c3835a1",
            "0d89e02e72404c71a773c74a02fbd9ad",
            "6a210a840d2547a7a78401657173977d",
            "7cca396aa6c843c49376a6f21a12b9da",
            "68430771fb594bf797372a65fcfb0e17",
            "a1e5a2daa0f2471588307b3499582534",
            "84007b2872954e0a8d9ae4d49f99fea7",
            "ea3cd9aba5454dd88d11a4163fe1802e",
            "801f8fc4d3794e66a2997b6957f1870c",
            "5e285410a41f48c4a0da2d38f202ec76",
            "cf6e2234f88b4e90b750c7efd6b261f4",
            "1bffb2ebf84f4bdd949a84882e0ec413",
            "c87ded0dd77a4736956059533cce497f",
            "ac07822df3f6432bb5d5fc9e3b963f5c",
            "a81a220f807a446094e73b713a6a6039",
            "e25d7cbaccec4d6f93bcb9713d017550",
            "ec84730e28c349e4a731486787d034b2",
            "fb57bc83b1be4399bae6f86c6f5beb41",
            "d5c0caaf54a143a38aa686b6382ce384",
            "d1d020341816426f960769295d7004f8",
            "075a3ce50ae34b238f628a71fde699dc",
            "bd1f7a04d4bd4a4daf47ddb5a44fc70b",
            "8b8defa869c742f88212b98996dc70af",
            "e463769f3ce0460087ca93c0410aabf6",
            "a145a8d20bfc477c91b22e0f0d3f61a4",
            "2f01a13d709647368a3793e33a573dee",
            "03346acf086b4ae98590004d61962393",
            "5d6d63e6c662492fafe70db13d71c105",
            "cab924352bc34af09656b6fffa4c88eb",
            "ad542ab480ac42c48bb2141a4dee32ad",
            "381cfde7b4674ee599a04b449ba6ddb0",
            "1f144fc449a745c3ad97df751ad72047",
            "38be6b4dac8944bebc8f2e7f763b50da",
            "e2df8f0ec9384c5baadf2d80c91d0b96",
            "afb7da05890543d7a8357be1512047b7",
            "f72fb599797f4f92983fe3861e886e86",
            "96862dfa7ff044caa64450c7c923622d",
            "7989c3ec546d417caa86ba9cb91fc76d"
          ]
        },
        "id": "CyuELataCnIN",
        "outputId": "341610b3-813e-4fee-8763-34bde55fb768"
      },
      "execution_count": 4,
      "outputs": [
        {
          "output_type": "stream",
          "name": "stderr",
          "text": [
            "/usr/local/lib/python3.12/dist-packages/huggingface_hub/utils/_auth.py:104: UserWarning: \n",
            "Error while fetching `HF_TOKEN` secret value from your vault: 'Requesting secret HF_TOKEN timed out. Secrets can only be fetched when running from the Colab UI.'.\n",
            "You are not authenticated with the Hugging Face Hub in this notebook.\n",
            "If the error persists, please let us know by opening an issue on GitHub (https://github.com/huggingface/huggingface_hub/issues/new).\n",
            "  warnings.warn(\n"
          ]
        },
        {
          "output_type": "display_data",
          "data": {
            "text/plain": [
              "Fetching 1 files:   0%|          | 0/1 [00:00<?, ?it/s]"
            ],
            "application/vnd.jupyter.widget-view+json": {
              "version_major": 2,
              "version_minor": 0,
              "model_id": "41372c130160418e91511fe04e304451"
            }
          },
          "metadata": {}
        },
        {
          "output_type": "display_data",
          "data": {
            "text/plain": [
              "preprocessor_config.json:   0%|          | 0.00/159 [00:00<?, ?B/s]"
            ],
            "application/vnd.jupyter.widget-view+json": {
              "version_major": 2,
              "version_minor": 0,
              "model_id": "bc23ad74897d45caaf6806a5746d5882"
            }
          },
          "metadata": {}
        },
        {
          "output_type": "display_data",
          "data": {
            "text/plain": [
              "tokenizer_config.json:   0%|          | 0.00/163 [00:00<?, ?B/s]"
            ],
            "application/vnd.jupyter.widget-view+json": {
              "version_major": 2,
              "version_minor": 0,
              "model_id": "18e305c6b8174e639c176e01b87f126d"
            }
          },
          "metadata": {}
        },
        {
          "output_type": "display_data",
          "data": {
            "text/plain": [
              "config.json: 0.00B [00:00, ?B/s]"
            ],
            "application/vnd.jupyter.widget-view+json": {
              "version_major": 2,
              "version_minor": 0,
              "model_id": "8533efc411ed46509739725ffa6d15de"
            }
          },
          "metadata": {}
        },
        {
          "output_type": "display_data",
          "data": {
            "text/plain": [
              "vocab.json:   0%|          | 0.00/291 [00:00<?, ?B/s]"
            ],
            "application/vnd.jupyter.widget-view+json": {
              "version_major": 2,
              "version_minor": 0,
              "model_id": "a1e5a2daa0f2471588307b3499582534"
            }
          },
          "metadata": {}
        },
        {
          "output_type": "display_data",
          "data": {
            "text/plain": [
              "special_tokens_map.json:   0%|          | 0.00/85.0 [00:00<?, ?B/s]"
            ],
            "application/vnd.jupyter.widget-view+json": {
              "version_major": 2,
              "version_minor": 0,
              "model_id": "ec84730e28c349e4a731486787d034b2"
            }
          },
          "metadata": {}
        },
        {
          "output_type": "display_data",
          "data": {
            "text/plain": [
              "model.safetensors:   0%|          | 0.00/378M [00:00<?, ?B/s]"
            ],
            "application/vnd.jupyter.widget-view+json": {
              "version_major": 2,
              "version_minor": 0,
              "model_id": "5d6d63e6c662492fafe70db13d71c105"
            }
          },
          "metadata": {}
        },
        {
          "output_type": "stream",
          "name": "stderr",
          "text": [
            "Some weights of Wav2Vec2Model were not initialized from the model checkpoint at facebook/wav2vec2-base-960h and are newly initialized: ['masked_spec_embed']\n",
            "You should probably TRAIN this model on a down-stream task to be able to use it for predictions and inference.\n"
          ]
        },
        {
          "output_type": "stream",
          "name": "stdout",
          "text": [
            "Feature dimension set to: 768\n",
            "Train set → total: 25423, bonafide: 9453 (37.18%), spoof: 15970 (62.82%)\n",
            "Val set → total: 6356, bonafide: 2363 (37.18%), spoof: 3993 (62.82%)\n"
          ]
        },
        {
          "output_type": "stream",
          "name": "stderr",
          "text": [
            "Vector DB Build: 100%|██████████| 398/398 [11:44<00:00,  1.77s/it]\n",
            "/usr/local/lib/python3.12/dist-packages/notebook/notebookapp.py:191: SyntaxWarning: invalid escape sequence '\\/'\n",
            "  | |_| | '_ \\/ _` / _` |  _/ -_)\n",
            "\u001b[34m\u001b[1mwandb\u001b[0m: \u001b[33mWARNING\u001b[0m If you're specifying your api key in code, ensure this code is not shared publicly.\n",
            "\u001b[34m\u001b[1mwandb\u001b[0m: \u001b[33mWARNING\u001b[0m Consider setting the WANDB_API_KEY environment variable, or running `wandb login` from the command line.\n",
            "\u001b[34m\u001b[1mwandb\u001b[0m: No netrc file found, creating one.\n",
            "\u001b[34m\u001b[1mwandb\u001b[0m: Appending key for api.wandb.ai to your netrc file: /root/.netrc\n",
            "\u001b[34m\u001b[1mwandb\u001b[0m: Currently logged in as: \u001b[33mavinash-saxena\u001b[0m (\u001b[33mavinash-saxena-san-jose-state-university\u001b[0m) to \u001b[32mhttps://api.wandb.ai\u001b[0m. Use \u001b[1m`wandb login --relogin`\u001b[0m to force relogin\n"
          ]
        },
        {
          "output_type": "display_data",
          "data": {
            "text/plain": [
              "<IPython.core.display.HTML object>"
            ],
            "text/html": []
          },
          "metadata": {}
        },
        {
          "output_type": "display_data",
          "data": {
            "text/plain": [
              "<IPython.core.display.HTML object>"
            ],
            "text/html": [
              "Tracking run with wandb version 0.21.4"
            ]
          },
          "metadata": {}
        },
        {
          "output_type": "display_data",
          "data": {
            "text/plain": [
              "<IPython.core.display.HTML object>"
            ],
            "text/html": [
              "Run data is saved locally in <code>/content/wandb/run-20251002_032014-bs8n8pvj</code>"
            ]
          },
          "metadata": {}
        },
        {
          "output_type": "display_data",
          "data": {
            "text/plain": [
              "<IPython.core.display.HTML object>"
            ],
            "text/html": [
              "Syncing run <strong><a href='https://wandb.ai/avinash-saxena-san-jose-state-university/deepfake-audio-raf/runs/bs8n8pvj' target=\"_blank\">colab-405c8f3e8eae-929</a></strong> to <a href='https://wandb.ai/avinash-saxena-san-jose-state-university/deepfake-audio-raf' target=\"_blank\">Weights & Biases</a> (<a href='https://wandb.me/developer-guide' target=\"_blank\">docs</a>)<br>"
            ]
          },
          "metadata": {}
        },
        {
          "output_type": "display_data",
          "data": {
            "text/plain": [
              "<IPython.core.display.HTML object>"
            ],
            "text/html": [
              " View project at <a href='https://wandb.ai/avinash-saxena-san-jose-state-university/deepfake-audio-raf' target=\"_blank\">https://wandb.ai/avinash-saxena-san-jose-state-university/deepfake-audio-raf</a>"
            ]
          },
          "metadata": {}
        },
        {
          "output_type": "display_data",
          "data": {
            "text/plain": [
              "<IPython.core.display.HTML object>"
            ],
            "text/html": [
              " View run at <a href='https://wandb.ai/avinash-saxena-san-jose-state-university/deepfake-audio-raf/runs/bs8n8pvj' target=\"_blank\">https://wandb.ai/avinash-saxena-san-jose-state-university/deepfake-audio-raf/runs/bs8n8pvj</a>"
            ]
          },
          "metadata": {}
        },
        {
          "output_type": "stream",
          "name": "stderr",
          "text": [
            "Epoch 1/10: 100%|██████████| 100/100 [11:43<00:00,  7.04s/it]\n",
            "Evaluating: 100%|██████████| 25/25 [02:56<00:00,  7.07s/it]\n"
          ]
        },
        {
          "output_type": "stream",
          "name": "stdout",
          "text": [
            "Epoch 1: Train Loss: 0.8188, Train Acc: 0.6150, Val Loss: 0.7402, Val Acc:0.6403 | AUC: 0.7834, EER: 28.73% (thr=0.6040), Macro EER: 33.40%, min t-DCF: nan\n"
          ]
        },
        {
          "output_type": "stream",
          "name": "stderr",
          "text": [
            "Epoch 2/10:   1%|          | 1/100 [00:07<11:39,  7.07s/it]\u001b[34m\u001b[1mwandb\u001b[0m: \u001b[33mWARNING\u001b[0m Tried to log to step 100 that is less than the current step 101. Steps must be monotonically increasing, so this data will be ignored. See https://wandb.me/define-metric to log data out of order.\n",
            "\u001b[34m\u001b[1mwandb\u001b[0m: \u001b[33mWARNING\u001b[0m Tried to log to step 100 that is less than the current step 102. Steps must be monotonically increasing, so this data will be ignored. See https://wandb.me/define-metric to log data out of order.\n",
            "Epoch 2/10:   2%|▏         | 2/100 [00:13<11:15,  6.89s/it]\u001b[34m\u001b[1mwandb\u001b[0m: \u001b[33mWARNING\u001b[0m Tried to log to step 101 that is less than the current step 102. Steps must be monotonically increasing, so this data will be ignored. See https://wandb.me/define-metric to log data out of order.\n",
            "Epoch 2/10: 100%|██████████| 100/100 [11:28<00:00,  6.89s/it]\n",
            "Evaluating: 100%|██████████| 25/25 [02:57<00:00,  7.08s/it]\n"
          ]
        },
        {
          "output_type": "stream",
          "name": "stdout",
          "text": [
            "Epoch 2: Train Loss: 0.7146, Train Acc: 0.7053, Val Loss: 0.7012, Val Acc:0.7594 | AUC: 0.8254, EER: 25.23% (thr=-0.6899), Macro EER: 25.84%, min t-DCF: nan\n"
          ]
        },
        {
          "output_type": "stream",
          "name": "stderr",
          "text": [
            "Epoch 3/10:   0%|          | 0/100 [00:00<?, ?it/s]\u001b[34m\u001b[1mwandb\u001b[0m: \u001b[33mWARNING\u001b[0m Tried to log to step 200 that is less than the current step 201. Steps must be monotonically increasing, so this data will be ignored. See https://wandb.me/define-metric to log data out of order.\n",
            "Epoch 3/10:   1%|          | 1/100 [00:07<11:41,  7.09s/it]\u001b[34m\u001b[1mwandb\u001b[0m: \u001b[33mWARNING\u001b[0m Tried to log to step 200 that is less than the current step 202. Steps must be monotonically increasing, so this data will be ignored. See https://wandb.me/define-metric to log data out of order.\n",
            "Epoch 3/10:   3%|▎         | 3/100 [00:20<11:03,  6.84s/it]\u001b[34m\u001b[1mwandb\u001b[0m: \u001b[33mWARNING\u001b[0m Tried to log to step 201 that is less than the current step 202. Steps must be monotonically increasing, so this data will be ignored. See https://wandb.me/define-metric to log data out of order.\n",
            "Epoch 3/10: 100%|██████████| 100/100 [11:26<00:00,  6.86s/it]\n",
            "Evaluating: 100%|██████████| 25/25 [02:44<00:00,  6.60s/it]\n"
          ]
        },
        {
          "output_type": "stream",
          "name": "stdout",
          "text": [
            "Epoch 3: Train Loss: 0.6553, Train Acc: 0.7462, Val Loss: 0.6449, Val Acc:0.7192 | AUC: 0.8565, EER: 22.69% (thr=0.9512), Macro EER: 24.54%, min t-DCF: nan\n"
          ]
        },
        {
          "output_type": "stream",
          "name": "stderr",
          "text": [
            "Epoch 4/10:   1%|          | 1/100 [00:06<11:29,  6.97s/it]\u001b[34m\u001b[1mwandb\u001b[0m: \u001b[33mWARNING\u001b[0m Tried to log to step 300 that is less than the current step 301. Steps must be monotonically increasing, so this data will be ignored. See https://wandb.me/define-metric to log data out of order.\n",
            "\u001b[34m\u001b[1mwandb\u001b[0m: \u001b[33mWARNING\u001b[0m Tried to log to step 300 that is less than the current step 302. Steps must be monotonically increasing, so this data will be ignored. See https://wandb.me/define-metric to log data out of order.\n",
            "Epoch 4/10:   2%|▏         | 2/100 [00:13<11:19,  6.94s/it]\u001b[34m\u001b[1mwandb\u001b[0m: \u001b[33mWARNING\u001b[0m Tried to log to step 301 that is less than the current step 302. Steps must be monotonically increasing, so this data will be ignored. See https://wandb.me/define-metric to log data out of order.\n",
            "Epoch 4/10: 100%|██████████| 100/100 [11:24<00:00,  6.85s/it]\n",
            "Evaluating: 100%|██████████| 25/25 [02:51<00:00,  6.85s/it]\n"
          ]
        },
        {
          "output_type": "stream",
          "name": "stdout",
          "text": [
            "Epoch 4: Train Loss: 0.6192, Train Acc: 0.7656, Val Loss: 0.5856, Val Acc:0.7588 | AUC: 0.8761, EER: 20.56% (thr=0.8110), Macro EER: 23.45%, min t-DCF: nan\n"
          ]
        },
        {
          "output_type": "stream",
          "name": "stderr",
          "text": [
            "Epoch 5/10:   0%|          | 0/100 [00:00<?, ?it/s]\u001b[34m\u001b[1mwandb\u001b[0m: \u001b[33mWARNING\u001b[0m Tried to log to step 400 that is less than the current step 401. Steps must be monotonically increasing, so this data will be ignored. See https://wandb.me/define-metric to log data out of order.\n",
            "Epoch 5/10:   1%|          | 1/100 [00:06<11:11,  6.79s/it]\u001b[34m\u001b[1mwandb\u001b[0m: \u001b[33mWARNING\u001b[0m Tried to log to step 400 that is less than the current step 402. Steps must be monotonically increasing, so this data will be ignored. See https://wandb.me/define-metric to log data out of order.\n",
            "Epoch 5/10:   3%|▎         | 3/100 [00:20<10:54,  6.74s/it]\u001b[34m\u001b[1mwandb\u001b[0m: \u001b[33mWARNING\u001b[0m Tried to log to step 401 that is less than the current step 402. Steps must be monotonically increasing, so this data will be ignored. See https://wandb.me/define-metric to log data out of order.\n",
            "Epoch 5/10: 100%|██████████| 100/100 [11:10<00:00,  6.71s/it]\n",
            "Evaluating: 100%|██████████| 25/25 [02:45<00:00,  6.62s/it]\n"
          ]
        },
        {
          "output_type": "stream",
          "name": "stdout",
          "text": [
            "Epoch 5: Train Loss: 0.5915, Train Acc: 0.7796, Val Loss: 0.5450, Val Acc:0.7920 | AUC: 0.8853, EER: 20.39% (thr=0.0918), Macro EER: 20.95%, min t-DCF: nan\n"
          ]
        },
        {
          "output_type": "stream",
          "name": "stderr",
          "text": [
            "Epoch 6/10:   0%|          | 0/100 [00:00<?, ?it/s]\u001b[34m\u001b[1mwandb\u001b[0m: \u001b[33mWARNING\u001b[0m Tried to log to step 500 that is less than the current step 501. Steps must be monotonically increasing, so this data will be ignored. See https://wandb.me/define-metric to log data out of order.\n",
            "Epoch 6/10:   1%|          | 1/100 [00:07<11:39,  7.06s/it]\u001b[34m\u001b[1mwandb\u001b[0m: \u001b[33mWARNING\u001b[0m Tried to log to step 500 that is less than the current step 502. Steps must be monotonically increasing, so this data will be ignored. See https://wandb.me/define-metric to log data out of order.\n",
            "Epoch 6/10:   3%|▎         | 3/100 [00:20<10:53,  6.74s/it]\u001b[34m\u001b[1mwandb\u001b[0m: \u001b[33mWARNING\u001b[0m Tried to log to step 501 that is less than the current step 502. Steps must be monotonically increasing, so this data will be ignored. See https://wandb.me/define-metric to log data out of order.\n",
            "Epoch 6/10: 100%|██████████| 100/100 [11:00<00:00,  6.60s/it]\n",
            "Evaluating: 100%|██████████| 25/25 [02:45<00:00,  6.62s/it]\n"
          ]
        },
        {
          "output_type": "stream",
          "name": "stdout",
          "text": [
            "Epoch 6: Train Loss: 0.5660, Train Acc: 0.7970, Val Loss: 0.7073, Val Acc:0.7070 | AUC: 0.8759, EER: 21.29% (thr=1.7217), Macro EER: 20.90%, min t-DCF: nan\n"
          ]
        },
        {
          "output_type": "stream",
          "name": "stderr",
          "text": [
            "Epoch 7/10:   0%|          | 0/100 [00:00<?, ?it/s]\u001b[34m\u001b[1mwandb\u001b[0m: \u001b[33mWARNING\u001b[0m Tried to log to step 600 that is less than the current step 601. Steps must be monotonically increasing, so this data will be ignored. See https://wandb.me/define-metric to log data out of order.\n",
            "Epoch 7/10:   2%|▏         | 2/100 [00:13<11:03,  6.77s/it]\u001b[34m\u001b[1mwandb\u001b[0m: \u001b[33mWARNING\u001b[0m Tried to log to step 600 that is less than the current step 602. Steps must be monotonically increasing, so this data will be ignored. See https://wandb.me/define-metric to log data out of order.\n",
            "\u001b[34m\u001b[1mwandb\u001b[0m: \u001b[33mWARNING\u001b[0m Tried to log to step 601 that is less than the current step 602. Steps must be monotonically increasing, so this data will be ignored. See https://wandb.me/define-metric to log data out of order.\n",
            "Epoch 7/10: 100%|██████████| 100/100 [11:01<00:00,  6.61s/it]\n",
            "Evaluating: 100%|██████████| 25/25 [02:44<00:00,  6.60s/it]\n"
          ]
        },
        {
          "output_type": "stream",
          "name": "stdout",
          "text": [
            "Epoch 7: Train Loss: 0.6108, Train Acc: 0.7727, Val Loss: 0.5189, Val Acc:0.8200 | AUC: 0.9010, EER: 18.24% (thr=-0.1290), Macro EER: 18.81%, min t-DCF: nan\n"
          ]
        },
        {
          "output_type": "stream",
          "name": "stderr",
          "text": [
            "Epoch 8/10:   1%|          | 1/100 [00:06<11:15,  6.82s/it]\u001b[34m\u001b[1mwandb\u001b[0m: \u001b[33mWARNING\u001b[0m Tried to log to step 700 that is less than the current step 701. Steps must be monotonically increasing, so this data will be ignored. See https://wandb.me/define-metric to log data out of order.\n",
            "\u001b[34m\u001b[1mwandb\u001b[0m: \u001b[33mWARNING\u001b[0m Tried to log to step 700 that is less than the current step 702. Steps must be monotonically increasing, so this data will be ignored. See https://wandb.me/define-metric to log data out of order.\n",
            "Epoch 8/10:   2%|▏         | 2/100 [00:13<10:59,  6.73s/it]\u001b[34m\u001b[1mwandb\u001b[0m: \u001b[33mWARNING\u001b[0m Tried to log to step 701 that is less than the current step 702. Steps must be monotonically increasing, so this data will be ignored. See https://wandb.me/define-metric to log data out of order.\n",
            "Epoch 8/10: 100%|██████████| 100/100 [10:59<00:00,  6.59s/it]\n",
            "Evaluating: 100%|██████████| 25/25 [02:44<00:00,  6.59s/it]\n"
          ]
        },
        {
          "output_type": "stream",
          "name": "stdout",
          "text": [
            "Epoch 8: Train Loss: 0.5372, Train Acc: 0.8062, Val Loss: 0.7850, Val Acc:0.6205 | AUC: 0.8984, EER: 18.80% (thr=1.9082), Macro EER: 19.10%, min t-DCF: nan\n"
          ]
        },
        {
          "output_type": "stream",
          "name": "stderr",
          "text": [
            "Epoch 9/10:   0%|          | 0/100 [00:00<?, ?it/s]\u001b[34m\u001b[1mwandb\u001b[0m: \u001b[33mWARNING\u001b[0m Tried to log to step 800 that is less than the current step 801. Steps must be monotonically increasing, so this data will be ignored. See https://wandb.me/define-metric to log data out of order.\n",
            "Epoch 9/10:   1%|          | 1/100 [00:06<11:22,  6.89s/it]\u001b[34m\u001b[1mwandb\u001b[0m: \u001b[33mWARNING\u001b[0m Tried to log to step 800 that is less than the current step 802. Steps must be monotonically increasing, so this data will be ignored. See https://wandb.me/define-metric to log data out of order.\n",
            "Epoch 9/10:   3%|▎         | 3/100 [00:20<10:47,  6.68s/it]\u001b[34m\u001b[1mwandb\u001b[0m: \u001b[33mWARNING\u001b[0m Tried to log to step 801 that is less than the current step 802. Steps must be monotonically increasing, so this data will be ignored. See https://wandb.me/define-metric to log data out of order.\n",
            "Epoch 9/10: 100%|██████████| 100/100 [10:58<00:00,  6.59s/it]\n",
            "Evaluating: 100%|██████████| 25/25 [02:45<00:00,  6.60s/it]\n"
          ]
        },
        {
          "output_type": "stream",
          "name": "stdout",
          "text": [
            "Epoch 9: Train Loss: 0.5247, Train Acc: 0.8124, Val Loss: 0.7980, Val Acc:0.6542 | AUC: 0.8896, EER: 19.85% (thr=2.1484), Macro EER: 18.95%, min t-DCF: nan\n"
          ]
        },
        {
          "output_type": "stream",
          "name": "stderr",
          "text": [
            "Epoch 10/10:   1%|          | 1/100 [00:07<11:34,  7.02s/it]\u001b[34m\u001b[1mwandb\u001b[0m: \u001b[33mWARNING\u001b[0m Tried to log to step 900 that is less than the current step 901. Steps must be monotonically increasing, so this data will be ignored. See https://wandb.me/define-metric to log data out of order.\n",
            "\u001b[34m\u001b[1mwandb\u001b[0m: \u001b[33mWARNING\u001b[0m Tried to log to step 900 that is less than the current step 902. Steps must be monotonically increasing, so this data will be ignored. See https://wandb.me/define-metric to log data out of order.\n",
            "Epoch 10/10:   2%|▏         | 2/100 [00:13<11:10,  6.84s/it]\u001b[34m\u001b[1mwandb\u001b[0m: \u001b[33mWARNING\u001b[0m Tried to log to step 901 that is less than the current step 902. Steps must be monotonically increasing, so this data will be ignored. See https://wandb.me/define-metric to log data out of order.\n",
            "Epoch 10/10: 100%|██████████| 100/100 [10:59<00:00,  6.60s/it]\n",
            "Evaluating: 100%|██████████| 25/25 [02:43<00:00,  6.56s/it]\n"
          ]
        },
        {
          "output_type": "stream",
          "name": "stdout",
          "text": [
            "Epoch 10: Train Loss: 0.5169, Train Acc: 0.8173, Val Loss: 0.4741, Val Acc:0.8293 | AUC: 0.9167, EER: 16.72% (thr=0.1669), Macro EER: 16.01%, min t-DCF: nan\n"
          ]
        },
        {
          "output_type": "display_data",
          "data": {
            "text/plain": [
              "<IPython.core.display.HTML object>"
            ],
            "text/html": []
          },
          "metadata": {}
        },
        {
          "output_type": "display_data",
          "data": {
            "text/plain": [
              "<IPython.core.display.HTML object>"
            ],
            "text/html": [
              "<br>    <style><br>        .wandb-row {<br>            display: flex;<br>            flex-direction: row;<br>            flex-wrap: wrap;<br>            justify-content: flex-start;<br>            width: 100%;<br>        }<br>        .wandb-col {<br>            display: flex;<br>            flex-direction: column;<br>            flex-basis: 100%;<br>            flex: 1;<br>            padding: 10px;<br>        }<br>    </style><br><div class=\"wandb-row\"><div class=\"wandb-col\"><h3>Run history:</h3><br/><table class=\"wandb\"><tr><td>curves/auc</td><td>▁▃▅▆▆▆▇▇▇█</td></tr><tr><td>grad_norm/detection</td><td>▁▂▂▂▁▂▄▂▁▂▁▂▄▄▁▂▂▄▂▄▄▄▂▃▄█▃▂▂▁▅▄▆▁▁▂▂▁▁▃</td></tr><tr><td>grad_norm/fuse</td><td>▁▁▂▁▁▂▁▁▁▂▁▂▁▁▁▂▂▂▂▃▂▁▄▂▅▄▅▂▂▁▅▄▂▂▂▄▂█▅▇</td></tr><tr><td>grad_norm/projection</td><td>▂▁▁▁▁▂▃▁▂▁▂▁▁▃▁▂▂▃▂▁▂▂▂▃▂▁▃█▂▂▃▃▂█▅▂▂▃▄▂</td></tr><tr><td>lr/detection</td><td>▁▁▁▁▁▁▁▁▁▁▁▁▁▁▁▁▁▁▁▁▁▁▁▁▁▁▁▁▁▁▁▁▁▁▁▁▁▁▁▁</td></tr><tr><td>lr/fuse</td><td>▁▁▁▁▁▁▁▁▁▁▁▁▁▁▁▁▁▁▁▁▁▁▁▁▁▁▁▁▁▁▁▁▁▁▁▁▁▁▁▁</td></tr><tr><td>lr/projection</td><td>▁▁▁▁▁▁▁▁▁▁▁▁▁▁▁▁▁▁▁▁▁▁▁▁▁▁▁▁▁▁▁▁▁▁▁▁▁▁▁▁</td></tr><tr><td>train/batch_loss</td><td>█▆▆▆▅▅▅▄▄▃▃▃▃▃▂▃▂▂▃▃▃▃▇▂▃▂▂▁▃▂▆▂▂▂▁▂▁▃▃▄</td></tr><tr><td>train/nnz_neighbor_rate</td><td>▁▁▁▁▁▁▁▁▁▁▁▁▁▁▁▁▁▁▁▁▁▁▁▁▁▁▁▁▁▁▁▁▁▁▁▁▁▁▁▁</td></tr></table><br/></div><div class=\"wandb-col\"><h3>Run summary:</h3><br/><table class=\"wandb\"><tr><td>curves/auc</td><td>0.9167</td></tr><tr><td>grad_norm/detection</td><td>1.29739</td></tr><tr><td>grad_norm/fuse</td><td>4.57393</td></tr><tr><td>grad_norm/projection</td><td>0.21484</td></tr><tr><td>lr/detection</td><td>0.001</td></tr><tr><td>lr/fuse</td><td>0.001</td></tr><tr><td>lr/projection</td><td>0.001</td></tr><tr><td>train/batch_loss</td><td>0.62987</td></tr><tr><td>train/nnz_neighbor_rate</td><td>1</td></tr></table><br/></div></div>"
            ]
          },
          "metadata": {}
        },
        {
          "output_type": "display_data",
          "data": {
            "text/plain": [
              "<IPython.core.display.HTML object>"
            ],
            "text/html": [
              " View run <strong style=\"color:#cdcd00\">colab-405c8f3e8eae-929</strong> at: <a href='https://wandb.ai/avinash-saxena-san-jose-state-university/deepfake-audio-raf/runs/bs8n8pvj' target=\"_blank\">https://wandb.ai/avinash-saxena-san-jose-state-university/deepfake-audio-raf/runs/bs8n8pvj</a><br> View project at: <a href='https://wandb.ai/avinash-saxena-san-jose-state-university/deepfake-audio-raf' target=\"_blank\">https://wandb.ai/avinash-saxena-san-jose-state-university/deepfake-audio-raf</a><br>Synced 5 W&B file(s), 40 media file(s), 32 artifact file(s) and 0 other file(s)"
            ]
          },
          "metadata": {}
        },
        {
          "output_type": "display_data",
          "data": {
            "text/plain": [
              "<IPython.core.display.HTML object>"
            ],
            "text/html": [
              "Find logs at: <code>./wandb/run-20251002_032014-bs8n8pvj/logs</code>"
            ]
          },
          "metadata": {}
        },
        {
          "output_type": "display_data",
          "data": {
            "text/plain": [
              "<IPython.core.display.HTML object>"
            ],
            "text/html": [
              "Tried to log to step 1000 that is less than the current step 1001. Steps must be monotonically increasing, so this data will be ignored. See https://wandb.me/define-metric to log data out of order."
            ]
          },
          "metadata": {}
        },
        {
          "output_type": "display_data",
          "data": {
            "text/plain": [
              "<IPython.core.display.HTML object>"
            ],
            "text/html": [
              "Tried to log to step 1000 that is less than the current step 1002. Steps must be monotonically increasing, so this data will be ignored. See https://wandb.me/define-metric to log data out of order."
            ]
          },
          "metadata": {}
        }
      ]
    },
    {
      "cell_type": "markdown",
      "source": [
        "## Loss and Accuracy Curves"
      ],
      "metadata": {
        "id": "YuHMjmuYfMTU"
      }
    },
    {
      "cell_type": "code",
      "source": [
        "pipeline.plot_training_curves()"
      ],
      "metadata": {
        "id": "m0-RKvBgDyRG"
      },
      "execution_count": 5,
      "outputs": []
    },
    {
      "cell_type": "code",
      "source": [
        "pipeline.show_curves_inline(smooth=7)"
      ],
      "metadata": {
        "id": "88z1PgOMEdnb",
        "colab": {
          "base_uri": "https://localhost:8080/",
          "height": 528
        },
        "outputId": "6c9b8a69-c26b-4116-aed3-0058b633d835"
      },
      "execution_count": 13,
      "outputs": [
        {
          "output_type": "display_data",
          "data": {
            "text/plain": [
              "<Figure size 1200x500 with 2 Axes>"
            ],
            "image/png": "[encoded data removed]"
          },
          "metadata": {}
        }
      ]
    },
    {
      "cell_type": "markdown",
      "source": [
        "## Sample Predictions"
      ],
      "metadata": {
        "id": "gYn6UYPafS6i"
      }
    },
    {
      "cell_type": "markdown",
      "source": [
        "### Spoof Prediction"
      ],
      "metadata": {
        "id": "yxVrNxh_fWz4"
      }
    },
    {
      "cell_type": "code",
      "source": [
        "import pandas as pd\n",
        "file_name = \"10136.wav\"\n",
        "audio_path = \"/content/release_in_the_wild/\"+file_name\n",
        "\n",
        "df = pd.read_csv(\"/content/release_in_the_wild/meta.csv\")\n",
        "expected = df[df[\"file\"]==file_name]\n",
        "\n",
        "\n",
        "# 12. Single-file prediction on GPU\n",
        "result = pipeline.predict(audio_path)\n",
        "\n",
        "filtered_df = df[df[\"file\"].isin(result['retrieved_files'])]\n",
        "\n",
        "\n",
        "print(f\"Prediction  : {result['prediction']}, Expected: {expected['label'].values[0]}, Speaker: {expected['speaker'].values[0]}\")\n",
        "print(f\"Probability Spoof: {result['probability_spoof']:.4f}\")\n",
        "print(\"Similar Audio Files retrieved\")\n",
        "print(filtered_df)"
      ],
      "metadata": {
        "id": "u9iyjuWEr_5i",
        "colab": {
          "base_uri": "https://localhost:8080/"
        },
        "outputId": "2faec196-fd9e-42ef-d480-2133d6a887aa"
      },
      "execution_count": 15,
      "outputs": [
        {
          "output_type": "stream",
          "name": "stdout",
          "text": [
            "Prediction  : spoof, Expected: spoof, Speaker: Alec Guinness\n",
            "Probability Spoof: 0.9414\n",
            "Similar Audio Files retrieved\n",
            "            file                speaker  label\n",
            "8551    8551.wav  Arnold Schwarzenegger  spoof\n",
            "15187  15187.wav          Alec Guinness  spoof\n",
            "21971  21971.wav               Ayn Rand  spoof\n",
            "25803  25803.wav               Ayn Rand  spoof\n",
            "29585  29585.wav          Alec Guinness  spoof\n"
          ]
        }
      ]
    },
    {
      "cell_type": "markdown",
      "source": [
        "### Bonafide Prediction"
      ],
      "metadata": {
        "id": "Fvru2HiFfbC1"
      }
    },
    {
      "cell_type": "code",
      "source": [
        "file_name = \"10135.wav\"\n",
        "audio_path = \"/content/release_in_the_wild/\"+file_name\n",
        "\n",
        "df = pd.read_csv(\"/content/release_in_the_wild/meta.csv\")\n",
        "expected = df[df[\"file\"]==file_name]\n",
        "\n",
        "\n",
        "# 12. Single-file prediction on GPU\n",
        "result = pipeline.predict(audio_path)\n",
        "\n",
        "filtered_df = df[df[\"file\"].isin(result['retrieved_files'])]\n",
        "\n",
        "\n",
        "print(f\"Prediction  : {result['prediction']}, Expected: {expected['label'].values[0]}, Speaker: {expected['speaker'].values[0]}\")\n",
        "print(f\"Probability Spoof: {result['probability_spoof']:.4f}\")\n",
        "print(\"Similar Audio Files retrieved\")\n",
        "print(filtered_df)"
      ],
      "metadata": {
        "colab": {
          "base_uri": "https://localhost:8080/"
        },
        "id": "kiJBQ0EpeAA4",
        "outputId": "d183bbfe-e0cd-4f4e-bb8e-ffa2333771f7"
      },
      "execution_count": 16,
      "outputs": [
        {
          "output_type": "stream",
          "name": "stdout",
          "text": [
            "Prediction  : bona-fide, Expected: bona-fide, Speaker: Barack Obama\n",
            "Probability Spoof: 0.1082\n",
            "Similar Audio Files retrieved\n",
            "            file       speaker      label\n",
            "3019    3019.wav  Barack Obama  bona-fide\n",
            "5376    5376.wav  Barack Obama  bona-fide\n",
            "7594    7594.wav  Barack Obama  bona-fide\n",
            "7666    7666.wav  Barack Obama  bona-fide\n",
            "21007  21007.wav  Barack Obama  bona-fide\n"
          ]
        }
      ]
    },
    {
      "cell_type": "code",
      "source": [],
      "metadata": {
        "id": "logCgOGoedFe"
      },
      "execution_count": null,
      "outputs": []
    }
  ]
}